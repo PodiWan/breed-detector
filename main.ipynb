{
 "cells": [
  {
   "cell_type": "markdown",
   "metadata": {},
   "source": [
    "# Pet Finder"
   ]
  },
  {
   "cell_type": "code",
   "execution_count": 21,
   "metadata": {},
   "outputs": [],
   "source": [
    "import pandas as pd\n",
    "import numpy as np\n",
    "import os\n",
    "import shutil"
   ]
  },
  {
   "cell_type": "markdown",
   "metadata": {},
   "source": [
    "#### Data manipulation"
   ]
  },
  {
   "cell_type": "markdown",
   "metadata": {},
   "source": [
    "Our data is split in multiple json files whose names start with the id of the pet followed by the copy number. This copy number is driven by the number of images of the given pet.\n",
    "Let us shorten the list of files by only using the first of each jsons."
   ]
  },
  {
   "cell_type": "code",
   "execution_count": 22,
   "metadata": {},
   "outputs": [],
   "source": [
    "path = os.walk('./test_metadata')\n",
    "out_path = './test_metadata_simplified'\n",
    "\n",
    "if os.path.exists(out_path) and os.path.isdir(out_path):\n",
    "    shutil.rmtree(out_path)\n",
    "os.mkdir(out_path)\n",
    "\n",
    "for root, _, files in path:\n",
    "    files_simplified = list(set([ file.split('-')[0] for file in files ]))\n",
    "    for file in files_simplified:\n",
    "        with open(f'{root}/{file}-1.json', 'r') as f:\n",
    "            with open(f'{out_path}/{file}.json', 'w+') as out:\n",
    "                out.writelines(f.readlines())"
   ]
  }
 ],
 "metadata": {
  "interpreter": {
   "hash": "b0fa6594d8f4cbf19f97940f81e996739fb7646882a419484c72d19e05852a7e"
  },
  "kernelspec": {
   "display_name": "Python 3.9.12 64-bit",
   "language": "python",
   "name": "python3"
  },
  "language_info": {
   "codemirror_mode": {
    "name": "ipython",
    "version": 3
   },
   "file_extension": ".py",
   "mimetype": "text/x-python",
   "name": "python",
   "nbconvert_exporter": "python",
   "pygments_lexer": "ipython3",
   "version": "3.9.12"
  },
  "orig_nbformat": 4
 },
 "nbformat": 4,
 "nbformat_minor": 2
}
